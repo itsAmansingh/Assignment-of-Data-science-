{
 "cells": [
  {
   "cell_type": "code",
   "execution_count": 4,
   "metadata": {},
   "outputs": [
    {
     "name": "stdout",
     "output_type": "stream",
     "text": [
      "Given the following jumbled word,OBANWRI guess the correct English word from the following options given below.\n",
      "A = RANIBOW\n",
      "B = RAINBOW\n",
      "C = BOWRANI\n",
      "D = ROBWANI\n"
     ]
    },
    {
     "name": "stdin",
     "output_type": "stream",
     "text": [
      "choose the correct option from options 'A','B','C','D': b\n"
     ]
    },
    {
     "name": "stdout",
     "output_type": "stream",
     "text": [
      "you choosed the CORRECT option,B\n"
     ]
    }
   ],
   "source": [
    "#QUESTION 1:\n",
    "A = \"RANIBOW\"\n",
    "B = \"RAINBOW\"\n",
    "C = \"BOWRANI\"\n",
    "D = \"ROBWANI\"\n",
    "print(\"Given the following jumbled word,OBANWRI guess the correct English word from the following options given below.\\nA = RANIBOW\\nB = RAINBOW\\nC = BOWRANI\\nD = ROBWANI\")\n",
    "z=input(\"choose the correct option from options 'A','B','C','D':\")\n",
    "Z=z.upper()\n",
    "if Z==\"B\":\n",
    "        print(\"you choosed the CORRECT option,B\")\n",
    "else:\n",
    "        print(\"you choosed the wrong option\")\n",
    "   "
   ]
  },
  {
   "cell_type": "code",
   "execution_count": 5,
   "metadata": {},
   "outputs": [
    {
     "name": "stdout",
     "output_type": "stream",
     "text": [
      "LETS UPGRADE\n"
     ]
    }
   ],
   "source": [
    "#QUESTION 2:\n",
    "print(\"LETS UPGRADE\")"
   ]
  },
  {
   "cell_type": "code",
   "execution_count": 6,
   "metadata": {},
   "outputs": [
    {
     "name": "stdout",
     "output_type": "stream",
     "text": [
      "                          INPUT                                                                OUTPUT \n",
      "Test Case 1\n"
     ]
    },
    {
     "name": "stdin",
     "output_type": "stream",
     "text": [
      "                           56\n",
      "                           98\n"
     ]
    },
    {
     "name": "stdout",
     "output_type": "stream",
     "text": [
      "                                                                                              profit  \n"
     ]
    }
   ],
   "source": [
    "#QUESTION 3:\n",
    "print(\"                          INPUT                                                                OUTPUT \")\n",
    "print(\"Test Case 1\")\n",
    "x=int(input(\"                          \"))                         \n",
    "y=int(input(\"                          \"))\n",
    "if x<y:\n",
    "    print(\"                                                                                              profit  \")\n",
    "elif x>y:\n",
    "    print(\"                                                                                              loss    \")\n",
    "else:\n",
    "    print(\"                                                                                              Neither \")"
   ]
  },
  {
   "cell_type": "code",
   "execution_count": 7,
   "metadata": {},
   "outputs": [
    {
     "name": "stdout",
     "output_type": "stream",
     "text": [
      "Test Case 1\n"
     ]
    },
    {
     "name": "stdin",
     "output_type": "stream",
     "text": [
      "input:  87\n"
     ]
    },
    {
     "name": "stdout",
     "output_type": "stream",
     "text": [
      "output: 6960\n"
     ]
    }
   ],
   "source": [
    "#QUESSTION 4:\n",
    "print(\"Test Case 1\")\n",
    "x=input(\"input: \")\n",
    "z=int(x)*80\n",
    "print(\"output:\",z)"
   ]
  },
  {
   "cell_type": "code",
   "execution_count": null,
   "metadata": {},
   "outputs": [],
   "source": []
  },
  {
   "cell_type": "code",
   "execution_count": null,
   "metadata": {},
   "outputs": [],
   "source": []
  }
 ],
 "metadata": {
  "kernelspec": {
   "display_name": "Python 3",
   "language": "python",
   "name": "python3"
  },
  "language_info": {
   "codemirror_mode": {
    "name": "ipython",
    "version": 3
   },
   "file_extension": ".py",
   "mimetype": "text/x-python",
   "name": "python",
   "nbconvert_exporter": "python",
   "pygments_lexer": "ipython3",
   "version": "3.8.3"
  }
 },
 "nbformat": 4,
 "nbformat_minor": 4
}
